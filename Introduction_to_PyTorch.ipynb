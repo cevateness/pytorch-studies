{
 "cells": [
  {
   "cell_type": "code",
   "execution_count": 2,
   "metadata": {},
   "outputs": [],
   "source": [
    "# Step 1: Import PyTorch\n",
    "import torch\n",
    "import torch.nn as nn\n",
    "import torch.optim as optim\n",
    "\n"
   ]
  },
  {
   "cell_type": "code",
   "execution_count": 3,
   "metadata": {},
   "outputs": [
    {
     "name": "stdout",
     "output_type": "stream",
     "text": [
      "Step 2: Tensors\n",
      "x: tensor([1., 2., 3.], requires_grad=True), y: tensor([2., 4., 6.], grad_fn=<MulBackward0>), z: 4.0\n",
      "Gradients of x: tensor([0.6667, 0.6667, 0.6667])\n"
     ]
    }
   ],
   "source": [
    "# Step 2: Tensors - The Building Blocks of PyTorch\n",
    "# Create a tensor and perform basic operations\n",
    "print(\"Step 2: Tensors\")\n",
    "x = torch.tensor([1.0, 2.0, 3.0], requires_grad=True)\n",
    "y = x * 2\n",
    "z = y.mean()\n",
    "print(f\"x: {x}, y: {y}, z: {z}\")\n",
    "\n",
    "# Compute gradients\n",
    "z.backward()\n",
    "print(f\"Gradients of x: {x.grad}\")\n"
   ]
  },
  {
   "cell_type": "code",
   "execution_count": 6,
   "metadata": {},
   "outputs": [
    {
     "name": "stdout",
     "output_type": "stream",
     "text": [
      "\n",
      "Step 3: Neural Networks\n",
      "SimpleNN(\n",
      "  (fc): Linear(in_features=2, out_features=1, bias=True)\n",
      ")\n"
     ]
    }
   ],
   "source": [
    "\n",
    "# Step 3: Neural Networks\n",
    "# Define a simple feedforward neural network\n",
    "print(\"\\nStep 3: Neural Networks\")\n",
    "class SimpleNN(nn.Module):\n",
    "    def __init__(self):\n",
    "        super(SimpleNN, self).__init__()\n",
    "        self.fc = nn.Linear(2, 1)\n",
    "    \n",
    "    def forward(self, x):\n",
    "        return self.fc(x)\n",
    "\n",
    "# Initialize the network\n",
    "model = SimpleNN()\n",
    "print(model)\n"
   ]
  },
  {
   "cell_type": "code",
   "execution_count": 7,
   "metadata": {},
   "outputs": [
    {
     "name": "stdout",
     "output_type": "stream",
     "text": [
      "\n",
      "Step 4: Loss and Optimizer\n"
     ]
    }
   ],
   "source": [
    "\n",
    "# Step 4: Define Loss and Optimizer\n",
    "# Mean Squared Error loss and SGD optimizer\n",
    "print(\"\\nStep 4: Loss and Optimizer\")\n",
    "criterion = nn.MSELoss()\n",
    "optimizer = optim.SGD(model.parameters(), lr=0.01)\n"
   ]
  },
  {
   "cell_type": "code",
   "execution_count": 8,
   "metadata": {},
   "outputs": [
    {
     "name": "stdout",
     "output_type": "stream",
     "text": [
      "\n",
      "Step 5: Training Loop\n",
      "Epoch [1/10], Loss: 0.6295\n",
      "Epoch [2/10], Loss: 0.6117\n",
      "Epoch [3/10], Loss: 0.6009\n",
      "Epoch [4/10], Loss: 0.5935\n",
      "Epoch [5/10], Loss: 0.5877\n",
      "Epoch [6/10], Loss: 0.5826\n",
      "Epoch [7/10], Loss: 0.5779\n",
      "Epoch [8/10], Loss: 0.5734\n",
      "Epoch [9/10], Loss: 0.5690\n",
      "Epoch [10/10], Loss: 0.5646\n"
     ]
    }
   ],
   "source": [
    "\n",
    "# Step 5: Training Loop\n",
    "# Dummy data for demonstration\n",
    "print(\"\\nStep 5: Training Loop\")\n",
    "inputs = torch.tensor([[1.0, 2.0], [3.0, 4.0]], requires_grad=True)\n",
    "targets = torch.tensor([[1.0], [0.0]])\n",
    "\n",
    "# Training for 10 epochs\n",
    "for epoch in range(10):\n",
    "    # Forward pass\n",
    "    outputs = model(inputs)\n",
    "    loss = criterion(outputs, targets)\n",
    "    \n",
    "    # Backward pass and optimization\n",
    "    optimizer.zero_grad()\n",
    "    loss.backward()\n",
    "    optimizer.step()\n",
    "    \n",
    "    print(f\"Epoch [{epoch+1}/10], Loss: {loss.item():.4f}\")\n"
   ]
  },
  {
   "cell_type": "code",
   "execution_count": 9,
   "metadata": {},
   "outputs": [
    {
     "name": "stdout",
     "output_type": "stream",
     "text": [
      "\n",
      "Model saved as 'simple_nn.pth'\n",
      "Model loaded successfully\n"
     ]
    },
    {
     "name": "stderr",
     "output_type": "stream",
     "text": [
      "C:\\Users\\cevatenesk\\AppData\\Local\\Temp\\ipykernel_16456\\2584416309.py:8: FutureWarning: You are using `torch.load` with `weights_only=False` (the current default value), which uses the default pickle module implicitly. It is possible to construct malicious pickle data which will execute arbitrary code during unpickling (See https://github.com/pytorch/pytorch/blob/main/SECURITY.md#untrusted-models for more details). In a future release, the default value for `weights_only` will be flipped to `True`. This limits the functions that could be executed during unpickling. Arbitrary objects will no longer be allowed to be loaded via this mode unless they are explicitly allowlisted by the user via `torch.serialization.add_safe_globals`. We recommend you start setting `weights_only=True` for any use case where you don't have full control of the loaded file. Please open an issue on GitHub for any issues related to this experimental feature.\n",
      "  loaded_model.load_state_dict(torch.load('simple_nn.pth'))\n"
     ]
    }
   ],
   "source": [
    "\n",
    "# Step 6: Save and Load Model\n",
    "# Save the trained model\n",
    "torch.save(model.state_dict(), 'simple_nn.pth')\n",
    "print(\"\\nModel saved as 'simple_nn.pth'\")\n",
    "\n",
    "# Load the model\n",
    "loaded_model = SimpleNN()\n",
    "loaded_model.load_state_dict(torch.load('simple_nn.pth'))\n",
    "print(\"Model loaded successfully\")\n"
   ]
  }
 ],
 "metadata": {
  "kernelspec": {
   "display_name": "base",
   "language": "python",
   "name": "python3"
  },
  "language_info": {
   "codemirror_mode": {
    "name": "ipython",
    "version": 3
   },
   "file_extension": ".py",
   "mimetype": "text/x-python",
   "name": "python",
   "nbconvert_exporter": "python",
   "pygments_lexer": "ipython3",
   "version": "3.12.7"
  }
 },
 "nbformat": 4,
 "nbformat_minor": 2
}
